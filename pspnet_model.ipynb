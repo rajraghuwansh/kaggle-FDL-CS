{
 "cells": [
  {
   "cell_type": "code",
   "execution_count": 1,
   "id": "89792904",
   "metadata": {},
   "outputs": [],
   "source": [
    "import pandas as pd\n",
    "import numpy as np\n",
    "import matplotlib.pyplot as plt\n",
    "import matplotlib.image as mpimg\n",
    "%matplotlib inline\n",
    "import seaborn as sns\n",
    "\n",
    "import os\n",
    "import random\n",
    "\n",
    "from PIL import Image\n",
    "\n",
    "\n",
    "import torch\n",
    "import torch.nn as nn\n",
    "import torch.nn.functional as F\n",
    "from torch.utils.data import TensorDataset, DataLoader, Dataset\n",
    "from torchvision import datasets, transforms\n",
    "from utils import *\n",
    "import albumentations as album\n",
    "#import extractors\n",
    "\n",
    "sns.set(style='white', context='notebook', palette='deep')"
   ]
  },
  {
   "cell_type": "code",
   "execution_count": 2,
   "id": "83d90809",
   "metadata": {},
   "outputs": [],
   "source": [
    "if torch.cuda.is_available():  \n",
    "    dev = \"cuda:0\" \n",
    "else:  \n",
    "    dev = \"cpu\"  \n",
    "device = torch.device(dev)  "
   ]
  },
  {
   "cell_type": "code",
   "execution_count": 3,
   "id": "0c52fb1b",
   "metadata": {},
   "outputs": [],
   "source": [
    "# def keep_image_size_open(path, size=(512, 512)):\n",
    "#     img = Image.open(path)\n",
    "#     side = max(img.size)  # Get the longest side of the image\n",
    "#     mask = Image.new('RGB', (side, side), (0, 0, 0))  # Create a square canvas\n",
    "#     mask.paste(img, (0, 0))  # Paste the original image on the left top of the canvas\n",
    "#     mask = mask.resize(size)  # Resize the new image to a uniform size\n",
    "#     return mask\n",
    "\n",
    "# def keep_mask_size_open(path, size=(512, 512)):\n",
    "#     img = Image.open(path)\n",
    "#     side = max(img.size)  # Get the longest side of the image\n",
    "#     mask = Image.new('L', (side, side), 0)  # Create a square canvas\n",
    "#     mask.paste(img, (0, 0))  # Paste the original image on the left top of the canvas\n",
    "#     mask = mask.resize(size)  # Resize the new image to a uniform size\n",
    "#     return mask"
   ]
  },
  {
   "cell_type": "code",
   "execution_count": 4,
   "id": "cad4a6e2",
   "metadata": {},
   "outputs": [
    {
     "ename": "NameError",
     "evalue": "name 'smp' is not defined",
     "output_type": "error",
     "traceback": [
      "\u001b[1;31m---------------------------------------------------------------------------\u001b[0m",
      "\u001b[1;31mNameError\u001b[0m                                 Traceback (most recent call last)",
      "\u001b[1;32m<ipython-input-4-f6a10702fc8b>\u001b[0m in \u001b[0;36m<module>\u001b[1;34m\u001b[0m\n\u001b[0;32m      6\u001b[0m \u001b[1;33m\u001b[0m\u001b[0m\n\u001b[0;32m      7\u001b[0m \u001b[1;31m# create segmentation model with pretrained encoder\u001b[0m\u001b[1;33m\u001b[0m\u001b[1;33m\u001b[0m\u001b[1;33m\u001b[0m\u001b[0m\n\u001b[1;32m----> 8\u001b[1;33m model = smp.PSPNet(\n\u001b[0m\u001b[0;32m      9\u001b[0m     \u001b[0mencoder_name\u001b[0m\u001b[1;33m=\u001b[0m\u001b[0mENCODER\u001b[0m\u001b[1;33m,\u001b[0m\u001b[1;33m\u001b[0m\u001b[1;33m\u001b[0m\u001b[0m\n\u001b[0;32m     10\u001b[0m     \u001b[0mencoder_weights\u001b[0m\u001b[1;33m=\u001b[0m\u001b[0mENCODER_WEIGHTS\u001b[0m\u001b[1;33m,\u001b[0m\u001b[1;33m\u001b[0m\u001b[1;33m\u001b[0m\u001b[0m\n",
      "\u001b[1;31mNameError\u001b[0m: name 'smp' is not defined"
     ]
    }
   ],
   "source": [
    "# Need to be run only one time\n",
    "ENCODER = 'resnext50_32x4d'\n",
    "ENCODER_WEIGHTS = 'imagenet'\n",
    "CLASSES = 27\n",
    "ACTIVATION = 'sigmoid' # could be None for logits or 'softmax2d','softmax' for multiclass segmentation\n",
    "\n",
    "# create segmentation model with pretrained encoder\n",
    "model = smp.PSPNet(\n",
    "    encoder_name=ENCODER, \n",
    "    encoder_weights=ENCODER_WEIGHTS, \n",
    "    classes=27, \n",
    "    activation=ACTIVATION,\n",
    ")\n",
    "\n",
    "preprocessing_fn = smp.encoders.get_preprocessing_fn(ENCODER, ENCODER_WEIGHTS)"
   ]
  },
  {
   "cell_type": "code",
   "execution_count": 8,
   "id": "8e91b0f9",
   "metadata": {},
   "outputs": [
    {
     "name": "stdout",
     "output_type": "stream",
     "text": [
      "torch.Size([3, 512, 512]) torch.Size([27, 512, 512])\n",
      "torch.float32 torch.int64\n",
      "261\n"
     ]
    }
   ],
   "source": [
    "# Convert a PIL Image to tensor.\n",
    "transform = transforms.Compose([transforms.ToTensor()])\n",
    "class MyDataset(Dataset):\n",
    "    def __init__(self, path):\n",
    "        self.path = path\n",
    "        self.name = os.listdir(os.path.join(path, 'train_masks'))\n",
    "\n",
    "    def __len__(self):\n",
    "        return len(self.name)\n",
    "\n",
    "    def __getitem__(self, index):\n",
    "        msk_name = self.name[index]\n",
    "        msk_path = os.path.join(self.path, 'train_masks', msk_name)\n",
    "        img_path = os.path.join(self.path, 'train_images', msk_name.replace('png', 'jpg'))\n",
    "        img = keep_image_size_open(img_path)\n",
    "        mask = keep_mask_size_open(msk_path)\n",
    "        img = transform(img) # this take score of shape that is channel first, normalise and covert to tensor\n",
    "        mask = np.array(mask)\n",
    "        mask = torch.from_numpy(mask).to(torch.int64)\n",
    "        mask = F.one_hot(mask, num_classes=27)\n",
    "        mask = torch.transpose(mask,2,0)\n",
    "        return img,mask\n",
    "\n",
    "\n",
    "if __name__ == '__main__':\n",
    "    data = MyDataset('')\n",
    "    check_image = data[100][0] # checking for the random 100th image\n",
    "    check_mask = data[10|0][1]\n",
    "    print(check_image.shape,check_mask.shape)\n",
    "    print(check_image.dtype,check_mask.dtype)\n",
    "    print(len(data))"
   ]
  },
  {
   "cell_type": "code",
   "execution_count": 20,
   "id": "751cddb9",
   "metadata": {},
   "outputs": [],
   "source": [
    "# i1 = Image.open(os.path.join('train_images',os.listdir('train_images')[143]))\n",
    "# m1 = Image.open(os.path.join('train_masks',os.listdir('train_masks')[143]))\n",
    "\n",
    "# plt.subplot(1,2,1)\n",
    "# plt.imshow(i1)\n",
    "# plt.subplot(1,2,2)\n",
    "# plt.imshow(m1)\n",
    "# plt.show()"
   ]
  },
  {
   "cell_type": "code",
   "execution_count": 24,
   "id": "22eb4b58",
   "metadata": {},
   "outputs": [],
   "source": [
    "# converting the mask into one hot"
   ]
  },
  {
   "cell_type": "code",
   "execution_count": 9,
   "id": "d9599575",
   "metadata": {},
   "outputs": [],
   "source": [
    "bs = 5\n",
    "nw = 0\n",
    "# Splitting into Train and Val\n",
    "full_dataset = MyDataset('')\n",
    "train_size = int(0.8 * len(full_dataset))\n",
    "val_size   = len(full_dataset) - train_size\n",
    "train_dataset, val_dataset = torch.utils.data.random_split(full_dataset, [train_size, val_size])\n",
    "\n",
    "# Creating  data_loader\n",
    "train_loader = torch.utils.data.DataLoader(train_dataset, batch_size=bs,num_workers=nw,shuffle=True)\n",
    "val_loader = torch.utils.data.DataLoader(val_dataset, batch_size=bs,num_workers=nw,shuffle=True)\n"
   ]
  },
  {
   "cell_type": "code",
   "execution_count": 10,
   "id": "59dbe686",
   "metadata": {},
   "outputs": [
    {
     "name": "stdout",
     "output_type": "stream",
     "text": [
      "torch.Size([5, 3, 512, 512]) torch.Size([5, 27, 512, 512])\n",
      "torch.float32 torch.int64\n"
     ]
    }
   ],
   "source": [
    "it, lt = next(iter(train_loader))\n",
    "print(it.shape,lt.shape)\n",
    "\n",
    "iv, lv = next(iter(val_loader))\n",
    "print(iv.dtype,lv.dtype)"
   ]
  },
  {
   "cell_type": "code",
   "execution_count": 11,
   "id": "69b33e8d",
   "metadata": {},
   "outputs": [],
   "source": [
    "#getting the pspnet model"
   ]
  },
  {
   "cell_type": "code",
   "execution_count": 13,
   "id": "f508bcc4",
   "metadata": {},
   "outputs": [
    {
     "data": {
      "text/plain": [
       "42"
      ]
     },
     "execution_count": 13,
     "metadata": {},
     "output_type": "execute_result"
    }
   ],
   "source": [
    "len(train_loader) # because of bs =5"
   ]
  },
  {
   "cell_type": "code",
   "execution_count": null,
   "id": "8a089b9d",
   "metadata": {},
   "outputs": [],
   "source": []
  }
 ],
 "metadata": {
  "kernelspec": {
   "display_name": "Python 3",
   "language": "python",
   "name": "python3"
  },
  "language_info": {
   "codemirror_mode": {
    "name": "ipython",
    "version": 3
   },
   "file_extension": ".py",
   "mimetype": "text/x-python",
   "name": "python",
   "nbconvert_exporter": "python",
   "pygments_lexer": "ipython3",
   "version": "3.8.8"
  }
 },
 "nbformat": 4,
 "nbformat_minor": 5
}
